{
 "cells": [
  {
   "cell_type": "code",
   "execution_count": 8,
   "id": "51b86205",
   "metadata": {},
   "outputs": [
    {
     "data": {
      "text/plain": [
       "array(['HipHop', 'Dance'], dtype=object)"
      ]
     },
     "execution_count": 8,
     "metadata": {},
     "output_type": "execute_result"
    }
   ],
   "source": [
    "import pandas as pd\n",
    "from sklearn.tree import DecisionTreeClassifier\n",
    "import joblib\n",
    "\n",
    "# music_data=pd.read_csv('music.csv')\n",
    "# X=music_data.drop(columns=['genre']) #to show data without the column named genre. X is input data\n",
    "# y=music_data['genre']     #to show only genre column. y is output data\n",
    "\n",
    "# model=DecisionTreeClassifier()\n",
    "# model.fit(X.values,y)  #takes input and output data(which is X and y)\n",
    "\n",
    "model=joblib.load('music-recommendation.joblib')  #loading from 'music-recommendation.joblib' file  \n",
    "predictions=model.predict([[21,1],[22,0]])  #to make predictions about 21y/o male and 22y/o female music taste\n",
    "predictions"
   ]
  },
  {
   "cell_type": "code",
   "execution_count": null,
   "id": "da2be66e",
   "metadata": {},
   "outputs": [],
   "source": [
    " "
   ]
  }
 ],
 "metadata": {
  "kernelspec": {
   "display_name": "Python 3 (ipykernel)",
   "language": "python",
   "name": "python3"
  },
  "language_info": {
   "codemirror_mode": {
    "name": "ipython",
    "version": 3
   },
   "file_extension": ".py",
   "mimetype": "text/x-python",
   "name": "python",
   "nbconvert_exporter": "python",
   "pygments_lexer": "ipython3",
   "version": "3.10.9"
  }
 },
 "nbformat": 4,
 "nbformat_minor": 5
}
